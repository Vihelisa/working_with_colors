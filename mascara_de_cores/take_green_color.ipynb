{
 "cells": [
  {
   "cell_type": "code",
   "execution_count": 9,
   "source": [
    "#Imports:\r\n",
    "import numpy as np\r\n",
    "import cv2\r\n",
    "import os"
   ],
   "outputs": [],
   "metadata": {}
  },
  {
   "cell_type": "code",
   "execution_count": 69,
   "source": [
    "#variables:\r\n",
    "folder = \"original_img\"\r\n",
    "new_folder = \"mask_image\"\r\n",
    "list_img = []"
   ],
   "outputs": [],
   "metadata": {}
  },
  {
   "cell_type": "code",
   "execution_count": 78,
   "source": [
    "#Take image in the folder\r\n",
    "file_names = sorted(os.listdir(folder))\r\n",
    "for images in file_names:\r\n",
    "    image = os.path.join(folder, images)\r\n",
    "    list_img.append(image)\r\n",
    "\r\n",
    "test_image = list_img[1]\r\n",
    "print(test_image)"
   ],
   "outputs": [
    {
     "output_type": "stream",
     "name": "stdout",
     "text": [
      "original_img\\20210823-093422_02970-00000_a9GzyenZy7uvy3f2eJk5vW.jpg\n"
     ]
    }
   ],
   "metadata": {}
  },
  {
   "cell_type": "code",
   "execution_count": 75,
   "source": [
    "#reading the image\r\n",
    "img = cv2.imread(test_image)\r\n",
    "\r\n",
    "#convert the image to hsv\r\n",
    "hsv = cv2.cvtColor(img, cv2.COLOR_BGR2HSV)\r\n",
    "\r\n",
    "#make the mask picture\r\n",
    "mask = cv2.inRange(hsv, (15, 25, 25), (100, 255,255))\r\n",
    "\r\n",
    "## slice the green\r\n",
    "imask = mask>0\r\n",
    "green = np.zeros_like(img, np.uint8)\r\n",
    "green[imask] = img[imask]"
   ],
   "outputs": [],
   "metadata": {}
  },
  {
   "cell_type": "code",
   "execution_count": 77,
   "source": [
    "## save \r\n",
    "new_image = os.path.join(new_folder, \"Greeeeen1.jpg\")\r\n",
    "cv2.imwrite(new_image, green)"
   ],
   "outputs": [
    {
     "output_type": "execute_result",
     "data": {
      "text/plain": [
       "True"
      ]
     },
     "metadata": {},
     "execution_count": 77
    }
   ],
   "metadata": {}
  },
  {
   "cell_type": "code",
   "execution_count": null,
   "source": [],
   "outputs": [],
   "metadata": {}
  }
 ],
 "metadata": {
  "orig_nbformat": 4,
  "language_info": {
   "name": "python",
   "version": "3.9.4",
   "mimetype": "text/x-python",
   "codemirror_mode": {
    "name": "ipython",
    "version": 3
   },
   "pygments_lexer": "ipython3",
   "nbconvert_exporter": "python",
   "file_extension": ".py"
  },
  "kernelspec": {
   "name": "python3",
   "display_name": "Python 3.9.4 64-bit"
  },
  "interpreter": {
   "hash": "64377b78c28759849424e6bb3b590c9624919fefb2535b75a3c6855f4585895a"
  }
 },
 "nbformat": 4,
 "nbformat_minor": 2
}